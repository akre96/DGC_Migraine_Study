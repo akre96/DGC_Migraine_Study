{
 "cells": [
  {
   "cell_type": "code",
   "execution_count": 200,
   "metadata": {},
   "outputs": [],
   "source": [
    "import importlib, os\n",
    "import numpy as np\n",
    "import pandas as pd\n",
    "import scipy.stats as stats\n",
    "import matplotlib.pyplot as plt\n",
    "import seaborn as sns\n",
    "from hmmlearn.hmm import GaussianHMM\n",
    "import sklearn.metrics.cluster as clust\n",
    "from tqdm.notebook import tqdm\n",
    "import data_processing.import_data as imp\n",
    "import data_processing.partition_data as prt\n",
    "from data_processing.load_env import load_env\n",
    "import plot_functions.format_axis as fmt\n"
   ]
  },
  {
   "cell_type": "code",
   "execution_count": 8,
   "metadata": {},
   "outputs": [
    {
     "name": "stdout",
     "output_type": "stream",
     "text": [
      "IMPORTING LONGITUDINAL DATA FROM:\n",
      "\t/Users/akre96/Data/DGC_Study/Longitudinal Data with New Barometric Data\n",
      "\tOnly importing patients with demographic information, and data until end of study\n",
      "\tRemoved 0 subjects 33 remain\n",
      "\tFiltering for time points newer than June 2016\n",
      "\tAdding Demographic information to longitudinal data\n",
      "REMOVING SUBJECT m2_0048\n",
      "Remaining Subjects: 32\n"
     ]
    }
   ],
   "source": [
    "importlib.reload(imp)\n",
    "env = load_env()\n",
    "sub_dir, files, paths = imp.generate_subject_file_path_list(env)\n",
    "long_data = imp.import_all_longitudinal_files(clean_only=True, add_demog=True)\n",
    "print('REMOVING SUBJECT m2_0048')\n",
    "long_data = long_data[long_data.subject_id != 'm2_0048']\n",
    "print('Remaining Subjects:', long_data.subject_id.nunique())"
   ]
  },
  {
   "cell_type": "code",
   "execution_count": 107,
   "metadata": {
    "scrolled": true
   },
   "outputs": [
    {
     "data": {
      "application/vnd.jupyter.widget-view+json": {
       "model_id": "9541c33e9a424b5880a42daeb8c0521e",
       "version_major": 2,
       "version_minor": 0
      },
      "text/plain": [
       "HBox(children=(FloatProgress(value=0.0, max=33.0), HTML(value='')))"
      ]
     },
     "metadata": {},
     "output_type": "display_data"
    },
    {
     "name": "stdout",
     "output_type": "stream",
     "text": [
      "Skipping m2_0048\n",
      "\n"
     ]
    },
    {
     "data": {
      "text/html": [
       "<div>\n",
       "<style scoped>\n",
       "    .dataframe tbody tr th:only-of-type {\n",
       "        vertical-align: middle;\n",
       "    }\n",
       "\n",
       "    .dataframe tbody tr th {\n",
       "        vertical-align: top;\n",
       "    }\n",
       "\n",
       "    .dataframe thead th {\n",
       "        text-align: right;\n",
       "    }\n",
       "</style>\n",
       "<table border=\"1\" class=\"dataframe\">\n",
       "  <thead>\n",
       "    <tr style=\"text-align: right;\">\n",
       "      <th></th>\n",
       "      <th>step_diff</th>\n",
       "      <th>call_diff</th>\n",
       "      <th>n_migraines</th>\n",
       "      <th>start_sev</th>\n",
       "      <th>start_anx</th>\n",
       "      <th>end_sev</th>\n",
       "      <th>end_mig_freq</th>\n",
       "    </tr>\n",
       "  </thead>\n",
       "  <tbody>\n",
       "    <tr>\n",
       "      <th>count</th>\n",
       "      <td>92.000000</td>\n",
       "      <td>92.000000</td>\n",
       "      <td>92.000000</td>\n",
       "      <td>92.000000</td>\n",
       "      <td>92.000000</td>\n",
       "      <td>92.000000</td>\n",
       "      <td>92.000000</td>\n",
       "    </tr>\n",
       "    <tr>\n",
       "      <th>mean</th>\n",
       "      <td>338.982509</td>\n",
       "      <td>0.164520</td>\n",
       "      <td>2.380435</td>\n",
       "      <td>50.417391</td>\n",
       "      <td>33.831522</td>\n",
       "      <td>48.938043</td>\n",
       "      <td>0.163043</td>\n",
       "    </tr>\n",
       "    <tr>\n",
       "      <th>std</th>\n",
       "      <td>1932.139257</td>\n",
       "      <td>3.111972</td>\n",
       "      <td>2.510822</td>\n",
       "      <td>17.254804</td>\n",
       "      <td>17.819195</td>\n",
       "      <td>18.672038</td>\n",
       "      <td>0.190114</td>\n",
       "    </tr>\n",
       "    <tr>\n",
       "      <th>min</th>\n",
       "      <td>-5048.408170</td>\n",
       "      <td>-7.190476</td>\n",
       "      <td>0.000000</td>\n",
       "      <td>9.700000</td>\n",
       "      <td>0.000000</td>\n",
       "      <td>9.700000</td>\n",
       "      <td>0.000000</td>\n",
       "    </tr>\n",
       "    <tr>\n",
       "      <th>50%</th>\n",
       "      <td>233.755086</td>\n",
       "      <td>0.000000</td>\n",
       "      <td>2.000000</td>\n",
       "      <td>51.250000</td>\n",
       "      <td>33.200000</td>\n",
       "      <td>50.050000</td>\n",
       "      <td>0.142857</td>\n",
       "    </tr>\n",
       "    <tr>\n",
       "      <th>max</th>\n",
       "      <td>5861.416667</td>\n",
       "      <td>18.400000</td>\n",
       "      <td>11.000000</td>\n",
       "      <td>82.100000</td>\n",
       "      <td>78.400000</td>\n",
       "      <td>83.200000</td>\n",
       "      <td>1.000000</td>\n",
       "    </tr>\n",
       "  </tbody>\n",
       "</table>\n",
       "</div>"
      ],
      "text/plain": [
       "         step_diff  call_diff  n_migraines  start_sev  start_anx    end_sev  \\\n",
       "count    92.000000  92.000000    92.000000  92.000000  92.000000  92.000000   \n",
       "mean    338.982509   0.164520     2.380435  50.417391  33.831522  48.938043   \n",
       "std    1932.139257   3.111972     2.510822  17.254804  17.819195  18.672038   \n",
       "min   -5048.408170  -7.190476     0.000000   9.700000   0.000000   9.700000   \n",
       "50%     233.755086   0.000000     2.000000  51.250000  33.200000  50.050000   \n",
       "max    5861.416667  18.400000    11.000000  82.100000  78.400000  83.200000   \n",
       "\n",
       "       end_mig_freq  \n",
       "count     92.000000  \n",
       "mean       0.163043  \n",
       "std        0.190114  \n",
       "min        0.000000  \n",
       "50%        0.142857  \n",
       "max        1.000000  "
      ]
     },
     "execution_count": 107,
     "metadata": {},
     "output_type": "execute_result"
    }
   ],
   "source": [
    "import data_processing.reshape_data as rd\n",
    "importlib.reload(rd)\n",
    "importlib.reload(prt)\n",
    "min_days = 14\n",
    "lengths = []\n",
    "sequences = []\n",
    "end_sevs = []\n",
    "start_sevs = []\n",
    "\n",
    "data_dict = {\n",
    "    'subject_id': [],\n",
    "    'start': [],\n",
    "    'start_date': [],\n",
    "    'end': [],\n",
    "    'step_diff': [],\n",
    "    'call_diff': [],\n",
    "    'n_migraines': [],\n",
    "    'start_sev': [],\n",
    "    'start_anx': [],\n",
    "    'end_sev': [],\n",
    "    'end_mig_freq': [],\n",
    "}\n",
    "\n",
    "\n",
    "for fp in tqdm(paths):\n",
    "    subject_data = imp.import_longitudinal_file(fp, True)\n",
    "    if subject_data.subject_id.unique()[0] == 'm2_0048':\n",
    "        print('Skipping m2_0048')\n",
    "        continue\n",
    "    chunks = prt.two_week_subsets(subject_data, min_days, verbose=False)\n",
    "    sequence = []\n",
    "    for d in chunks:\n",
    "        data = d.sort_values(by='Date', ascending=True)\n",
    "        start = data['start'].unique()[0]\n",
    "        end = data['end'].unique()[0]\n",
    "        h1, h2 = prt.split_half(data)\n",
    "        sid = data.subject_id.unique()[0]\n",
    "        if 'Step count' not in data.columns:\n",
    "            print('No Step Count', sid)\n",
    "            step_diff = np.nan\n",
    "        else:\n",
    "            step_diff = h2['Step count'].mean() - h1['Step count'].mean()   \n",
    "            \n",
    "        call_diff = h2['outgoing_calls'].mean() - h1['outgoing_calls'].mean()   \n",
    "        \n",
    "        n_migraines = rd.melt_occurrances('mbrep_start_date', data).dropna().mbrep_start_date.count()\n",
    "        start_sev = data['start_sev'].unique()[0]\n",
    "        start_anx = data['start_anx'].unique()[0]\n",
    "        end_sev = data.end_sev.unique()[0]\n",
    "        end_mig_freq = data.end_mig_freq.unique()[0]\n",
    "        \n",
    "        data_dict['subject_id'].append(sid)\n",
    "        data_dict['start'].append(start)\n",
    "        data_dict['start_date'].append(data['Date'].min())\n",
    "        data_dict['end'].append(end)\n",
    "        data_dict['step_diff'].append(step_diff)\n",
    "        data_dict['call_diff'].append(call_diff)\n",
    "        data_dict['n_migraines'].append(n_migraines)\n",
    "        data_dict['start_sev'].append(start_sev)\n",
    "        data_dict['start_anx'].append(start_anx)\n",
    "        data_dict['end_sev'].append(end_sev)\n",
    "        data_dict['end_mig_freq'].append(end_mig_freq)\n",
    "        \n",
    "data_df = pd.DataFrame.from_dict(data_dict).dropna()\n",
    "data_df.describe(percentiles=[.5])"
   ]
  },
  {
   "cell_type": "code",
   "execution_count": 217,
   "metadata": {},
   "outputs": [
    {
     "data": {
      "text/plain": [
       "29"
      ]
     },
     "execution_count": 217,
     "metadata": {},
     "output_type": "execute_result"
    }
   ],
   "source": [
    "data_df.subject_id.nunique()"
   ]
  },
  {
   "cell_type": "markdown",
   "metadata": {},
   "source": [
    "## Mig/Dep Only feature model"
   ]
  },
  {
   "cell_type": "code",
   "execution_count": 207,
   "metadata": {},
   "outputs": [
    {
     "name": "stdout",
     "output_type": "stream",
     "text": [
      "Data Shape (92, 2) \n",
      "N-Sequences: 38\n"
     ]
    }
   ],
   "source": [
    "sequences = []\n",
    "lengths = []\n",
    "end_sevs = []\n",
    "end_mig_freqs = []\n",
    "start_sevs = []\n",
    "sids = []\n",
    "last_sid = ''\n",
    "last_end = ''\n",
    "sequence = None\n",
    "\n",
    "# Future work will look at including start anxiety as well\n",
    "#features = ['n_migraines', 'start_sev', 'start_anx']\n",
    "features = ['n_migraines', 'start_sev']\n",
    "\n",
    "for (sid, start, end), df in data_df.dropna().groupby(['subject_id', 'start', 'end']):\n",
    "    if df.shape[0] != 1:\n",
    "        print(df)\n",
    "    event = df[features].to_numpy()[0]\n",
    "    if (sid == last_sid) and (start == last_end):\n",
    "        sequence.append(event)\n",
    "    else:\n",
    "        if sequence:\n",
    "            sequences.append(sequence)\n",
    "            lengths.append(len(sequence))\n",
    "        sequence = [event]\n",
    "\n",
    "    last_sid = sid\n",
    "    last_end = end\n",
    "    end_sevs.append(df.end_sev.unique()[0])\n",
    "    end_mig_freqs.append(df.end_mig_freq.unique()[0])\n",
    "    start_sevs.append(df.start_sev.unique()[0])\n",
    "    sids.append(sid)\n",
    "        \n",
    "sequences.append(sequence)\n",
    "lengths.append(len(sequence))\n",
    "X = np.concatenate(sequences)\n",
    "\n",
    "lengths = np.array(lengths).astype(int)\n",
    "end_sevs = np.array(end_sevs)\n",
    "end_mig_freqs = np.array(end_mig_freqs)\n",
    "\n",
    "print('Data Shape', X.shape,'\\nN-Sequences:', len(lengths))"
   ]
  },
  {
   "cell_type": "code",
   "execution_count": 208,
   "metadata": {},
   "outputs": [
    {
     "data": {
      "application/vnd.jupyter.widget-view+json": {
       "model_id": "38e0166b6718499eb8954f431cd01d45",
       "version_major": 2,
       "version_minor": 0
      },
      "text/plain": [
       "HBox(children=(FloatProgress(value=0.0, max=625.0), HTML(value='')))"
      ]
     },
     "metadata": {},
     "output_type": "display_data"
    },
    {
     "name": "stdout",
     "output_type": "stream",
     "text": [
      "\n"
     ]
    },
    {
     "data": {
      "text/plain": [
       "550"
      ]
     },
     "execution_count": 208,
     "metadata": {},
     "output_type": "execute_result"
    }
   ],
   "source": [
    "steps = 25\n",
    "mig_t = np.linspace(0,1,steps)\n",
    "mdd_t = np.linspace(0,83,steps)\n",
    "mesh = np.array(np.meshgrid(mig_t,mdd_t)).T.reshape(-1,2)\n",
    "\n",
    "categories = []\n",
    "\n",
    "for mig_thresh, mdd_thresh in tqdm(mesh):\n",
    "    is_mdd = (end_sevs >= mdd_thresh).astype(int)\n",
    "    is_mig = (end_mig_freqs >= mig_thresh).astype(int)\n",
    "    cats = np.char.array(is_mdd.astype(str)) + np.char.array(is_mig.astype(str))\n",
    "    if len(categories):\n",
    "        if not np.array_equal(cats, categories[-1]):\n",
    "            categories.append(cats)\n",
    "    else:\n",
    "        categories.append(cats)\n",
    "cat_len = len(categories)\n",
    "cat_len"
   ]
  },
  {
   "cell_type": "code",
   "execution_count": 209,
   "metadata": {},
   "outputs": [
    {
     "data": {
      "application/vnd.jupyter.widget-view+json": {
       "model_id": "b613f912139740b1880b5e78f368b168",
       "version_major": 2,
       "version_minor": 0
      },
      "text/plain": [
       "HBox(children=(FloatProgress(value=0.0, max=38.0), HTML(value='')))"
      ]
     },
     "metadata": {},
     "output_type": "display_data"
    },
    {
     "name": "stdout",
     "output_type": "stream",
     "text": [
      "\n"
     ]
    }
   ],
   "source": [
    "n_components=4\n",
    "n_iter=1000\n",
    "cov='full'\n",
    "\n",
    "i = 0\n",
    "j = 0\n",
    "max_amis = np.zeros(len(lengths))\n",
    "mig_ths = np.zeros(len(lengths))\n",
    "mdd_ths = np.zeros(len(lengths))\n",
    "for l in tqdm(lengths):\n",
    "    test = X[i:i+l]\n",
    "    test_l = [l]\n",
    "    \n",
    "    train = np.concatenate([X[:i], X[i+l:]])\n",
    "    train_l = np.concatenate([lengths[:j], lengths[j+1:]]).astype(int)\n",
    "    model = GaussianHMM(\n",
    "        n_components=n_components,\n",
    "        covariance_type='full',\n",
    "        n_iter=1000,\n",
    "    ).fit(train, train_l)\n",
    "    mod_out = model.predict(X, lengths)\n",
    "    amis = np.zeros(cat_len)\n",
    "    k = 0\n",
    "    for cats in categories:\n",
    "        ami = clust.adjusted_mutual_info_score(cats, mod_out)\n",
    "        amis[k] = ami\n",
    "        k += 1\n",
    "    max_amis[j] = amis.max()\n",
    "        \n",
    "    i = i + l\n",
    "    j += 1"
   ]
  },
  {
   "cell_type": "code",
   "execution_count": 210,
   "metadata": {},
   "outputs": [
    {
     "name": "stdout",
     "output_type": "stream",
     "text": [
      "Mean: 0.28477633025617016\n",
      "Std: 0.02198273253821331\n",
      "Min: 0.25738967095611515\n",
      "Max: 0.3565126579887369\n"
     ]
    },
    {
     "data": {
      "text/plain": [
       "array([0.28965354, 0.30614704, 0.28965354, 0.28965354, 0.32431564,\n",
       "       0.30922169, 0.2713643 , 0.27570411, 0.35651266, 0.28965354,\n",
       "       0.26445828, 0.26794505, 0.26445828, 0.27756044, 0.26794505,\n",
       "       0.26794505, 0.26445828, 0.28965354, 0.26794505, 0.26794505,\n",
       "       0.30614704, 0.32187143, 0.27597607, 0.27597607, 0.26212628,\n",
       "       0.3013154 , 0.26353249, 0.28965354, 0.25738967, 0.27652283,\n",
       "       0.27390535, 0.26076078, 0.26445828, 0.32295039, 0.30614704,\n",
       "       0.2713643 , 0.29955639, 0.28965354])"
      ]
     },
     "execution_count": 210,
     "metadata": {},
     "output_type": "execute_result"
    }
   ],
   "source": [
    "print('Mean:',max_amis.mean())\n",
    "print('Std:', max_amis.std())\n",
    "print('Min:', max_amis.min())\n",
    "print('Max:', max_amis.max())\n",
    "max_amis"
   ]
  },
  {
   "cell_type": "markdown",
   "metadata": {},
   "source": [
    "## + Continuous Monitering Feature Model"
   ]
  },
  {
   "cell_type": "code",
   "execution_count": 211,
   "metadata": {},
   "outputs": [
    {
     "name": "stdout",
     "output_type": "stream",
     "text": [
      "Data Shape (92, 4) \n",
      "N-Sequences: 38\n"
     ]
    }
   ],
   "source": [
    "sequences = []\n",
    "lengths = []\n",
    "end_sevs = []\n",
    "end_mig_freqs = []\n",
    "start_sevs = []\n",
    "sids = []\n",
    "last_sid = ''\n",
    "last_end = ''\n",
    "sequence = None\n",
    "\n",
    "# Future work will include start anxiety scores as well\n",
    "#features = ['step_diff', 'call_diff', 'n_migraines', 'start_sev', 'start_anx']\n",
    "features = ['step_diff', 'call_diff', 'n_migraines', 'start_sev']\n",
    "\n",
    "for (sid, start, end), df in data_df.dropna().groupby(['subject_id', 'start', 'end']):\n",
    "    if df.shape[0] != 1:\n",
    "        print(df)\n",
    "    event = df[features].to_numpy()[0]\n",
    "    if (sid == last_sid) and (start == last_end):\n",
    "        sequence.append(event)\n",
    "    else:\n",
    "        if sequence:\n",
    "            sequences.append(sequence)\n",
    "            lengths.append(len(sequence))\n",
    "        sequence = [event]\n",
    "\n",
    "    last_sid = sid\n",
    "    last_end = end\n",
    "    end_sevs.append(df.end_sev.unique()[0])\n",
    "    end_mig_freqs.append(df.end_mig_freq.unique()[0])\n",
    "    start_sevs.append(df.start_sev.unique()[0])\n",
    "    sids.append(sid)\n",
    "        \n",
    "sequences.append(sequence)\n",
    "lengths.append(len(sequence))\n",
    "X = np.concatenate(sequences)\n",
    "\n",
    "lengths = np.array(lengths).astype(int)\n",
    "end_sevs = np.array(end_sevs)\n",
    "end_mig_freqs = np.array(end_mig_freqs)\n",
    "\n",
    "print('Data Shape', X.shape,'\\nN-Sequences:', len(lengths))"
   ]
  },
  {
   "cell_type": "code",
   "execution_count": 212,
   "metadata": {},
   "outputs": [],
   "source": [
    "n_samples = len(lengths)"
   ]
  },
  {
   "cell_type": "code",
   "execution_count": 213,
   "metadata": {},
   "outputs": [
    {
     "data": {
      "application/vnd.jupyter.widget-view+json": {
       "model_id": "af492bac420b4548a931f29e64b49656",
       "version_major": 2,
       "version_minor": 0
      },
      "text/plain": [
       "HBox(children=(FloatProgress(value=0.0, max=38.0), HTML(value='')))"
      ]
     },
     "metadata": {},
     "output_type": "display_data"
    },
    {
     "name": "stdout",
     "output_type": "stream",
     "text": [
      "\n"
     ]
    }
   ],
   "source": [
    "n_components=4\n",
    "n_iter=1000\n",
    "cov='full'\n",
    "\n",
    "i = 0\n",
    "j = 0\n",
    "n_samples = len(lengths)\n",
    "max_amis_2 = np.zeros(n_samples)\n",
    "mig_ths = np.zeros(n_samples)\n",
    "mdd_ths = np.zeros(n_samples)\n",
    "for l in tqdm(lengths):\n",
    "    test = X[i:i+l]\n",
    "    test_l = [l]\n",
    "    \n",
    "    train = np.concatenate([X[:i], X[i+l:]])\n",
    "    train_l = np.concatenate([lengths[:j], lengths[j+1:]]).astype(int)\n",
    "    model = GaussianHMM(\n",
    "        n_components=n_components,\n",
    "        covariance_type='full',\n",
    "        n_iter=1000,\n",
    "    ).fit(train, train_l)\n",
    "    mod_out_2 = model.predict(X, lengths)\n",
    "    amis = np.zeros(cat_len)\n",
    "    k = 0\n",
    "    for cats in categories:\n",
    "        ami = clust.adjusted_mutual_info_score(cats, mod_out_2)\n",
    "        amis[k] = ami\n",
    "        k += 1\n",
    "    max_amis_2[j] = amis.max()\n",
    "        \n",
    "    i = i + l\n",
    "    j += 1"
   ]
  },
  {
   "cell_type": "code",
   "execution_count": 214,
   "metadata": {},
   "outputs": [
    {
     "name": "stdout",
     "output_type": "stream",
     "text": [
      "Mean: 0.1932417800203281\n",
      "Std: 0.034083510812160156\n",
      "Min: 0.10013479175801562\n",
      "Max: 0.2342591590939904\n"
     ]
    },
    {
     "data": {
      "text/plain": [
       "array([0.21237461, 0.20546761, 0.12241558, 0.21239639, 0.21330768,\n",
       "       0.20526445, 0.20526445, 0.17655352, 0.15472613, 0.14455235,\n",
       "       0.20802699, 0.21239639, 0.21643313, 0.23425916, 0.222365  ,\n",
       "       0.21239639, 0.2181633 , 0.20526445, 0.2181633 , 0.2181633 ,\n",
       "       0.21151184, 0.13381245, 0.20802699, 0.22017888, 0.20534176,\n",
       "       0.20046431, 0.18384106, 0.1853357 , 0.12623479, 0.10013479,\n",
       "       0.20790733, 0.19113335, 0.21151184, 0.10620321, 0.20526445,\n",
       "       0.20790733, 0.20802699, 0.21239639])"
      ]
     },
     "execution_count": 214,
     "metadata": {},
     "output_type": "execute_result"
    }
   ],
   "source": [
    "print('Mean:',max_amis_2.mean())\n",
    "print('Std:', max_amis_2.std())\n",
    "print('Min:', max_amis_2.min())\n",
    "print('Max:', max_amis_2.max())\n",
    "max_amis_2"
   ]
  },
  {
   "cell_type": "code",
   "execution_count": 220,
   "metadata": {},
   "outputs": [
    {
     "data": {
      "text/plain": [
       "Text(0.5, 1.0, 'P: 1.55E-14, t: 1.22E+01')"
      ]
     },
     "execution_count": 220,
     "metadata": {},
     "output_type": "execute_result"
    },
    {
     "data": {
      "image/png": "[encoded data removed]",
      "text/plain": [
       "<Figure size 576x576 with 1 Axes>"
      ]
     },
     "metadata": {
      "needs_background": "light"
     },
     "output_type": "display_data"
    }
   ],
   "source": [
    "from decimal import Decimal\n",
    "fig, ax = plt.subplots(figsize=(8,8))\n",
    "x = (['D+M']*n_samples) + (['D+M+S+C'] * n_samples)\n",
    "y = np.concatenate([max_amis, max_amis_2])\n",
    "palette = ['#7f8fa6', '#487eb0']\n",
    "sns.boxplot(\n",
    "    x=x,\n",
    "    y=y,\n",
    "    ax=ax,\n",
    "    palette=palette,\n",
    "    fliersize=0,\n",
    ")\n",
    "sns.swarmplot(\n",
    "    x=x,\n",
    "    y=y,\n",
    "    ax=ax,\n",
    "    alpha=0.7,\n",
    "    linewidth=1,\n",
    "    palette=palette,\n",
    "    edgecolor='white',\n",
    "    s=9\n",
    ")\n",
    "fmt.despine_thicken_axes(\n",
    "    ax=ax,\n",
    "    lw=4,\n",
    "    fontsize=20,\n",
    ")\n",
    "ax.set_ylabel('Adjusted Mutual Information')\n",
    "t_value, p_value = stats.ttest_rel(max_amis, max_amis_2)\n",
    "p_value_sn = '%.2E' % Decimal(p_value)\n",
    "t_value_sn = '%.2E' % Decimal(t_value)\n",
    "ax.set_title('P: ' + p_value_sn + ', t: ' + t_value_sn, fontsize=20)"
   ]
  },
  {
   "cell_type": "code",
   "execution_count": null,
   "metadata": {},
   "outputs": [],
   "source": []
  }
 ],
 "metadata": {
  "kernelspec": {
   "display_name": "Python 3",
   "language": "python",
   "name": "python3"
  },
  "language_info": {
   "codemirror_mode": {
    "name": "ipython",
    "version": 3
   },
   "file_extension": ".py",
   "mimetype": "text/x-python",
   "name": "python",
   "nbconvert_exporter": "python",
   "pygments_lexer": "ipython3",
   "version": "3.7.3"
  }
 },
 "nbformat": 4,
 "nbformat_minor": 4
}
